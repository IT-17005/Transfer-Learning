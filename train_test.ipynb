{
  "nbformat": 4,
  "nbformat_minor": 0,
  "metadata": {
    "colab": {
      "name": "train_test.ipynb",
      "provenance": [],
      "collapsed_sections": [],
      "mount_file_id": "10aW3gq3qwsVVQuu4h9JS6YYzh4ziMpEL",
      "authorship_tag": "ABX9TyOFEw2z1SIWRVf1TGoHnqSI",
      "include_colab_link": true
    },
    "kernelspec": {
      "name": "python3",
      "display_name": "Python 3"
    },
    "language_info": {
      "name": "python"
    }
  },
  "cells": [
    {
      "cell_type": "markdown",
      "metadata": {
        "id": "view-in-github",
        "colab_type": "text"
      },
      "source": [
        "<a href=\"https://colab.research.google.com/github/IT-17005/Transfer-Learning/blob/master/train_test.ipynb\" target=\"_parent\"><img src=\"https://colab.research.google.com/assets/colab-badge.svg\" alt=\"Open In Colab\"/></a>"
      ]
    },
    {
      "cell_type": "code",
      "execution_count": 1,
      "metadata": {
        "colab": {
          "base_uri": "https://localhost:8080/"
        },
        "id": "pzPxYdMnFe__",
        "outputId": "ff2c9857-a387-4557-93eb-a663497ba295"
      },
      "outputs": [
        {
          "output_type": "stream",
          "name": "stdout",
          "text": [
            "Collecting split-folders\n",
            "  Downloading split_folders-0.5.1-py3-none-any.whl (8.4 kB)\n",
            "Installing collected packages: split-folders\n",
            "Successfully installed split-folders-0.5.1\n"
          ]
        }
      ],
      "source": [
        "pip install split-folders"
      ]
    },
    {
      "cell_type": "code",
      "source": [
        "input_folder = '/content/drive/MyDrive/SchiDatasetOpenNeuro/'\n",
        "output = '/content/drive/MyDrive/SchiDataOpenNeuroPro/' #where you want the split datasets saved. one will be created if it does not exist or none is set\n",
        "\n",
        "splitfolders.ratio(input_folder, output=output, seed=42, ratio=(.7, .2, .1)) # ratio of split are in order of train/val/test. You can change to whatever you want. For train/val sets only, you could do .75, .25 for example"
      ],
      "metadata": {
        "colab": {
          "base_uri": "https://localhost:8080/"
        },
        "id": "8tLwhSlbIPqJ",
        "outputId": "1767d433-c1d8-4ca8-a258-849ace2ecf5e"
      },
      "execution_count": 8,
      "outputs": [
        {
          "output_type": "stream",
          "name": "stderr",
          "text": [
            "Copying files: 4019 files [02:06, 31.79 files/s]\n"
          ]
        }
      ]
    },
    {
      "cell_type": "code",
      "source": [
        "import splitfolders  # or import split_folders\n",
        "\n",
        "input_folder = '/content/drive/MyDrive/SchiDatasetOpenNeuro/'\n",
        "\n",
        "# Split with a ratio.\n",
        "# To only split into training and validation set, set a tuple to `ratio`, i.e, `(.8, .2)`.\n",
        "#Train, val, test\n",
        "splitfolders.ratio(input_folder, output=\"/content/drive/MyDrive/SchiDataOpenNeuroPro\", \n",
        "                   seed=42, ratio=(.7, .2, .1), \n",
        "                   group_prefix=None) # default values\n",
        "                   \n",
        "            # OR \n",
        "\n",
        "# Split val/test with a fixed number of items e.g. 100 for each set.\n",
        "# To only split into training and validation set, use a single number to `fixed`, i.e., `10`.\n",
        "# enable oversampling of imbalanced datasets, works only with fixed\n",
        "splitfolders.fixed(input_folder, output=\"/content/drive/MyDrive/SchiDataOpenNeuroPro/\", \n",
        "                   seed=42, fixed=(471, 235), \n",
        "                   oversample=False, group_prefix=None)"
      ],
      "metadata": {
        "id": "FKout6m6KZQf"
      },
      "execution_count": null,
      "outputs": []
    }
  ]
}